{
  "nbformat": 4,
  "nbformat_minor": 0,
  "metadata": {
    "colab": {
      "provenance": [],
      "authorship_tag": "ABX9TyNND72qC0mMHoglAw7lb2OD",
      "include_colab_link": true
    },
    "kernelspec": {
      "name": "python3",
      "display_name": "Python 3"
    },
    "language_info": {
      "name": "python"
    }
  },
  "cells": [
    {
      "cell_type": "markdown",
      "metadata": {
        "id": "view-in-github",
        "colab_type": "text"
      },
      "source": [
        "<a href=\"https://colab.research.google.com/github/Asaedd/TaskNLP/blob/main/TaskNLP.ipynb\" target=\"_parent\"><img src=\"https://colab.research.google.com/assets/colab-badge.svg\" alt=\"Open In Colab\"/></a>"
      ]
    },
    {
      "cell_type": "code",
      "source": [
        "from google.colab import drive\n",
        "drive.mount('/content/drive')\n"
      ],
      "metadata": {
        "colab": {
          "base_uri": "https://localhost:8080/"
        },
        "id": "q4W-34beqSFu",
        "outputId": "c869950f-1405-4977-e6b2-3f6f582df7c1"
      },
      "execution_count": null,
      "outputs": [
        {
          "output_type": "stream",
          "name": "stdout",
          "text": [
            "Drive already mounted at /content/drive; to attempt to forcibly remount, call drive.mount(\"/content/drive\", force_remount=True).\n"
          ]
        }
      ]
    },
    {
      "cell_type": "code",
      "source": [
        "import os\n",
        "\n",
        "folder_path = \"/content/drive/My Drive/Sentimental/Sentimental\"\n",
        "print(os.listdir(folder_path))\n"
      ],
      "metadata": {
        "colab": {
          "base_uri": "https://localhost:8080/"
        },
        "id": "WeYjPfHIqUl1",
        "outputId": "2322218b-4de4-4f07-9afc-c6e3a59bed43"
      },
      "execution_count": null,
      "outputs": [
        {
          "output_type": "stream",
          "name": "stdout",
          "text": [
            "['twitter_validation.csv', 'twitter_training.csv']\n"
          ]
        }
      ]
    },
    {
      "cell_type": "code",
      "source": [
        "import pandas as pd\n",
        "\n",
        "# Load CSV files without headers\n",
        "train_df = pd.read_csv(f\"{folder_path}/twitter_training.csv\", encoding='latin-1', header=None)\n",
        "val_df = pd.read_csv(f\"{folder_path}/twitter_validation.csv\", encoding='latin-1', header=None)\n",
        "\n",
        "# Rename columns\n",
        "train_df.columns = ['ID', 'Topic', 'Sentiment', 'Text']\n",
        "val_df.columns = ['ID', 'Topic', 'Sentiment', 'Text']\n",
        "\n",
        "# Drop the ID and Topic columns (if not needed)\n",
        "train_df = train_df[['Sentiment', 'Text']]\n",
        "val_df = val_df[['Sentiment', 'Text']]\n",
        "\n",
        "print(train_df.head())"
      ],
      "metadata": {
        "colab": {
          "base_uri": "https://localhost:8080/"
        },
        "id": "kd32ZKTbqXTj",
        "outputId": "8cdd26e2-024b-4511-f202-6903a9fe93cf"
      },
      "execution_count": null,
      "outputs": [
        {
          "output_type": "stream",
          "name": "stdout",
          "text": [
            "  Sentiment                                               Text\n",
            "0  Positive  im getting on borderlands and i will murder yo...\n",
            "1  Positive  I am coming to the borders and I will kill you...\n",
            "2  Positive  im getting on borderlands and i will kill you ...\n",
            "3  Positive  im coming on borderlands and i will murder you...\n",
            "4  Positive  im getting on borderlands 2 and i will murder ...\n"
          ]
        }
      ]
    },
    {
      "cell_type": "code",
      "source": [
        "import re\n",
        "\n",
        "def clean_text(text):\n",
        "    text = re.sub(r'http\\S+', '', text)  # Remove URLs\n",
        "    text = re.sub(r'@\\w+', '', text)  # Remove mentions\n",
        "    text = re.sub(r'#\\w+', '', text)  # Remove hashtags\n",
        "    text = re.sub(r'[^a-zA-Z\\s]', '', text)  # Remove punctuation\n",
        "    text = text.lower().strip()  # Convert to lowercase\n",
        "    return text\n",
        "\n",
        "train_df['cleaned_text'] = train_df['Text'].astype(str).apply(clean_text)\n",
        "val_df['cleaned_text'] = val_df['Text'].astype(str).apply(clean_text)\n"
      ],
      "metadata": {
        "id": "FnCHjxNHqZfq"
      },
      "execution_count": null,
      "outputs": []
    },
    {
      "cell_type": "code",
      "source": [
        "import nltk\n",
        "from nltk.corpus import stopwords\n",
        "\n",
        "nltk.download('stopwords')\n",
        "stop_words = set(stopwords.words('english'))\n",
        "\n",
        "def remove_stopwords(text):\n",
        "    return ' '.join([word for word in text.split() if word not in stop_words])\n",
        "\n",
        "train_df['cleaned_text'] = train_df['cleaned_text'].apply(remove_stopwords)\n",
        "val_df['cleaned_text'] = val_df['cleaned_text'].apply(remove_stopwords)\n"
      ],
      "metadata": {
        "colab": {
          "base_uri": "https://localhost:8080/"
        },
        "id": "yWSo9AQGqbU1",
        "outputId": "aba054a5-baf6-4ed1-c5f6-d188f4d702b0"
      },
      "execution_count": null,
      "outputs": [
        {
          "output_type": "stream",
          "name": "stderr",
          "text": [
            "[nltk_data] Downloading package stopwords to /root/nltk_data...\n",
            "[nltk_data]   Unzipping corpora/stopwords.zip.\n"
          ]
        }
      ]
    },
    {
      "cell_type": "code",
      "source": [
        "from nltk.stem import WordNetLemmatizer\n",
        "\n",
        "nltk.download('wordnet')\n",
        "lemmatizer = WordNetLemmatizer()\n",
        "\n",
        "def lemmatize_text(text):\n",
        "    return ' '.join([lemmatizer.lemmatize(word) for word in text.split()])\n",
        "\n",
        "train_df['cleaned_text'] = train_df['cleaned_text'].apply(lemmatize_text)\n",
        "val_df['cleaned_text'] = val_df['cleaned_text'].apply(lemmatize_text)\n"
      ],
      "metadata": {
        "colab": {
          "base_uri": "https://localhost:8080/"
        },
        "id": "MMOKTgI-qdWQ",
        "outputId": "0b1cf112-e479-438e-d8dc-045a86e77be3"
      },
      "execution_count": null,
      "outputs": [
        {
          "output_type": "stream",
          "name": "stderr",
          "text": [
            "[nltk_data] Downloading package wordnet to /root/nltk_data...\n"
          ]
        }
      ]
    },
    {
      "cell_type": "code",
      "source": [
        "from tensorflow.keras.preprocessing.text import Tokenizer\n",
        "from tensorflow.keras.preprocessing.sequence import pad_sequences\n",
        "\n",
        "# Set tokenizer parameters\n",
        "max_features = 5000  # Vocabulary size\n",
        "max_length = 100  # Max sequence length\n",
        "\n",
        "# Tokenizer\n",
        "tokenizer = Tokenizer(num_words=max_features, oov_token=\"<OOV>\")\n",
        "tokenizer.fit_on_texts(train_df['cleaned_text'])\n",
        "\n",
        "# Convert text to sequences\n",
        "X_train = tokenizer.texts_to_sequences(train_df['cleaned_text'])\n",
        "X_val = tokenizer.texts_to_sequences(val_df['cleaned_text'])\n",
        "\n",
        "# Pad sequences to ensure uniform input length\n",
        "X_train = pad_sequences(X_train, maxlen=max_length, padding='post', truncating='post')\n",
        "X_val = pad_sequences(X_val, maxlen=max_length, padding='post', truncating='post')\n"
      ],
      "metadata": {
        "id": "9ba3SoWnqe8n"
      },
      "execution_count": null,
      "outputs": []
    },
    {
      "cell_type": "code",
      "source": [
        "from sklearn.preprocessing import LabelEncoder\n",
        "from tensorflow.keras.utils import to_categorical\n",
        "\n",
        "# Encode labels to numerical values\n",
        "label_encoder = LabelEncoder()\n",
        "train_df['Sentiment'] = label_encoder.fit_transform(train_df['Sentiment'])\n",
        "val_df['Sentiment'] = label_encoder.transform(val_df['Sentiment'])\n",
        "\n",
        "# Convert labels to categorical (one-hot encoding)\n",
        "y_train = to_categorical(train_df['Sentiment'])\n",
        "y_val = to_categorical(val_df['Sentiment'])\n",
        "\n"
      ],
      "metadata": {
        "id": "GCERLRDLqgrQ"
      },
      "execution_count": null,
      "outputs": []
    },
    {
      "cell_type": "code",
      "source": [
        "from tensorflow.keras.models import Sequential\n",
        "from tensorflow.keras.layers import Embedding, SimpleRNN, Dense\n",
        "\n",
        "# Get the number of classes\n",
        "num_classes = y_train.shape[1]  # Should be 4 if you have Positive, Negative, Neutral, Irrelevant\n",
        "\n",
        "# Define the RNN model\n",
        "model = Sequential([\n",
        "    Embedding(input_dim=max_features, output_dim=128, input_length=max_length),\n",
        "    SimpleRNN(128, return_sequences=False),\n",
        "    Dense(num_classes, activation='softmax')  # Change activation to softmax for multi-class classification\n",
        "])\n",
        "\n",
        "# Compile the model\n",
        "model.compile(optimizer='adam', loss='categorical_crossentropy', metrics=['accuracy'])\n",
        "\n",
        "# Print model summary\n",
        "#model.summary()\n"
      ],
      "metadata": {
        "colab": {
          "base_uri": "https://localhost:8080/"
        },
        "id": "o9yfX3wsqibP",
        "outputId": "ed0cee98-cdcb-4e77-c6d4-a79b97ecff3a"
      },
      "execution_count": null,
      "outputs": [
        {
          "output_type": "stream",
          "name": "stderr",
          "text": [
            "/usr/local/lib/python3.11/dist-packages/keras/src/layers/core/embedding.py:90: UserWarning: Argument `input_length` is deprecated. Just remove it.\n",
            "  warnings.warn(\n"
          ]
        }
      ]
    },
    {
      "cell_type": "code",
      "source": [
        "batch_size = 32\n",
        "epochs = 5\n",
        "\n",
        "history = model.fit(X_train, y_train, epochs=epochs, batch_size=batch_size, validation_data=(X_val, y_val))\n"
      ],
      "metadata": {
        "colab": {
          "base_uri": "https://localhost:8080/"
        },
        "id": "A2Pf0YYmqkp8",
        "outputId": "d9d9bef5-9c73-45b7-8e3d-7a9eb12cd7f7"
      },
      "execution_count": null,
      "outputs": [
        {
          "output_type": "stream",
          "name": "stdout",
          "text": [
            "Epoch 1/5\n",
            "\u001b[1m2334/2334\u001b[0m \u001b[32m━━━━━━━━━━━━━━━━━━━━\u001b[0m\u001b[37m\u001b[0m \u001b[1m124s\u001b[0m 52ms/step - accuracy: 0.2860 - loss: 1.3834 - val_accuracy: 0.2780 - val_loss: 1.3733\n",
            "Epoch 2/5\n",
            "\u001b[1m2334/2334\u001b[0m \u001b[32m━━━━━━━━━━━━━━━━━━━━\u001b[0m\u001b[37m\u001b[0m \u001b[1m139s\u001b[0m 50ms/step - accuracy: 0.2937 - loss: 1.3796 - val_accuracy: 0.2880 - val_loss: 1.3719\n",
            "Epoch 3/5\n",
            "\u001b[1m2334/2334\u001b[0m \u001b[32m━━━━━━━━━━━━━━━━━━━━\u001b[0m\u001b[37m\u001b[0m \u001b[1m141s\u001b[0m 50ms/step - accuracy: 0.3047 - loss: 1.3708 - val_accuracy: 0.2930 - val_loss: 1.3847\n",
            "Epoch 4/5\n",
            "\u001b[1m2334/2334\u001b[0m \u001b[32m━━━━━━━━━━━━━━━━━━━━\u001b[0m\u001b[37m\u001b[0m \u001b[1m119s\u001b[0m 51ms/step - accuracy: 0.3087 - loss: 1.3680 - val_accuracy: 0.2890 - val_loss: 1.3823\n",
            "Epoch 5/5\n",
            "\u001b[1m2334/2334\u001b[0m \u001b[32m━━━━━━━━━━━━━━━━━━━━\u001b[0m\u001b[37m\u001b[0m \u001b[1m140s\u001b[0m 50ms/step - accuracy: 0.3048 - loss: 1.3712 - val_accuracy: 0.2700 - val_loss: 1.3966\n"
          ]
        }
      ]
    }
  ]
}